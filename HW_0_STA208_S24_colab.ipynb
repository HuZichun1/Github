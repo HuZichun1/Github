{
  "cells": [
    {
      "cell_type": "markdown",
      "metadata": {
        "id": "view-in-github",
        "colab_type": "text"
      },
      "source": [
        "<a href=\"https://colab.research.google.com/github/HuZichun1/Github/blob/main/HW_0_STA208_S24_colab.ipynb\" target=\"_parent\"><img src=\"https://colab.research.google.com/assets/colab-badge.svg\" alt=\"Open In Colab\"/></a>"
      ]
    },
    {
      "cell_type": "markdown",
      "metadata": {
        "id": "Rdk1rlsGSLQR"
      },
      "source": [
        "## **HW#0-STA208-S24: Getting Started / Warmup Exercises**"
      ]
    },
    {
      "cell_type": "markdown",
      "metadata": {
        "id": "gWMfB3c0tJ7F"
      },
      "source": [
        "## Part I: (Do not turn in)\n",
        "\n",
        "Basics of how to work with jupyter notebooks and colab.\n",
        "\n",
        "**Colab/notebooks:**\n",
        "\n",
        "- colab and google drive\n",
        "- code cells / text cells\n",
        "- save (and pin) notebooks\n",
        "- markdown\n",
        "- latex\n",
        "\n",
        "- I/O (see below; reference: https://colab.research.google.com/notebooks/io.ipynb)\n",
        "\n",
        "**Resources:**\n",
        "\n",
        "[Very basics of LATEX](https://en.wikibooks.org/wiki/LaTeX/Mathematics)\n",
        "\n",
        "[Overview of Colaboratory](https://colab.research.google.com/notebooks/basic_features_overview.ipynb)\n",
        "\n",
        "[Guide to Markdown](https://colab.research.google.com/notebooks/markdown_guide.ipynb)\n",
        "\n",
        "[Saving and loading notebooks in GitHub](https://colab.research.google.com/github/googlecolab/colabtools/blob/master/notebooks/colab-github-demo.ipynb)"
      ]
    },
    {
      "cell_type": "markdown",
      "metadata": {
        "id": "dFWPvIhOqr1k"
      },
      "source": [
        "\n",
        "\n",
        "### I/O on Colab and using bash commands (this section is also in the notebook \"lecture1\")\n",
        "\n",
        "To upload a file to Colab from a local drive, run the following code (you will be prompted to select the file);"
      ]
    },
    {
      "cell_type": "code",
      "execution_count": null,
      "metadata": {
        "colab": {
          "base_uri": "https://localhost:8080/",
          "height": 41
        },
        "id": "Vp1ct5Nueukg",
        "outputId": "cd73063f-b164-4afb-d008-5c3633fe46db"
      },
      "outputs": [
        {
          "output_type": "display_data",
          "data": {
            "text/plain": [
              "<IPython.core.display.HTML object>"
            ],
            "text/html": [
              "\n",
              "     <input type=\"file\" id=\"files-582817de-8704-4ae7-b038-09e6e5b35ca0\" name=\"files[]\" multiple disabled\n",
              "        style=\"border:none\" />\n",
              "     <output id=\"result-582817de-8704-4ae7-b038-09e6e5b35ca0\">\n",
              "      Upload widget is only available when the cell has been executed in the\n",
              "      current browser session. Please rerun this cell to enable.\n",
              "      </output>\n",
              "      <script>// Copyright 2017 Google LLC\n",
              "//\n",
              "// Licensed under the Apache License, Version 2.0 (the \"License\");\n",
              "// you may not use this file except in compliance with the License.\n",
              "// You may obtain a copy of the License at\n",
              "//\n",
              "//      http://www.apache.org/licenses/LICENSE-2.0\n",
              "//\n",
              "// Unless required by applicable law or agreed to in writing, software\n",
              "// distributed under the License is distributed on an \"AS IS\" BASIS,\n",
              "// WITHOUT WARRANTIES OR CONDITIONS OF ANY KIND, either express or implied.\n",
              "// See the License for the specific language governing permissions and\n",
              "// limitations under the License.\n",
              "\n",
              "/**\n",
              " * @fileoverview Helpers for google.colab Python module.\n",
              " */\n",
              "(function(scope) {\n",
              "function span(text, styleAttributes = {}) {\n",
              "  const element = document.createElement('span');\n",
              "  element.textContent = text;\n",
              "  for (const key of Object.keys(styleAttributes)) {\n",
              "    element.style[key] = styleAttributes[key];\n",
              "  }\n",
              "  return element;\n",
              "}\n",
              "\n",
              "// Max number of bytes which will be uploaded at a time.\n",
              "const MAX_PAYLOAD_SIZE = 100 * 1024;\n",
              "\n",
              "function _uploadFiles(inputId, outputId) {\n",
              "  const steps = uploadFilesStep(inputId, outputId);\n",
              "  const outputElement = document.getElementById(outputId);\n",
              "  // Cache steps on the outputElement to make it available for the next call\n",
              "  // to uploadFilesContinue from Python.\n",
              "  outputElement.steps = steps;\n",
              "\n",
              "  return _uploadFilesContinue(outputId);\n",
              "}\n",
              "\n",
              "// This is roughly an async generator (not supported in the browser yet),\n",
              "// where there are multiple asynchronous steps and the Python side is going\n",
              "// to poll for completion of each step.\n",
              "// This uses a Promise to block the python side on completion of each step,\n",
              "// then passes the result of the previous step as the input to the next step.\n",
              "function _uploadFilesContinue(outputId) {\n",
              "  const outputElement = document.getElementById(outputId);\n",
              "  const steps = outputElement.steps;\n",
              "\n",
              "  const next = steps.next(outputElement.lastPromiseValue);\n",
              "  return Promise.resolve(next.value.promise).then((value) => {\n",
              "    // Cache the last promise value to make it available to the next\n",
              "    // step of the generator.\n",
              "    outputElement.lastPromiseValue = value;\n",
              "    return next.value.response;\n",
              "  });\n",
              "}\n",
              "\n",
              "/**\n",
              " * Generator function which is called between each async step of the upload\n",
              " * process.\n",
              " * @param {string} inputId Element ID of the input file picker element.\n",
              " * @param {string} outputId Element ID of the output display.\n",
              " * @return {!Iterable<!Object>} Iterable of next steps.\n",
              " */\n",
              "function* uploadFilesStep(inputId, outputId) {\n",
              "  const inputElement = document.getElementById(inputId);\n",
              "  inputElement.disabled = false;\n",
              "\n",
              "  const outputElement = document.getElementById(outputId);\n",
              "  outputElement.innerHTML = '';\n",
              "\n",
              "  const pickedPromise = new Promise((resolve) => {\n",
              "    inputElement.addEventListener('change', (e) => {\n",
              "      resolve(e.target.files);\n",
              "    });\n",
              "  });\n",
              "\n",
              "  const cancel = document.createElement('button');\n",
              "  inputElement.parentElement.appendChild(cancel);\n",
              "  cancel.textContent = 'Cancel upload';\n",
              "  const cancelPromise = new Promise((resolve) => {\n",
              "    cancel.onclick = () => {\n",
              "      resolve(null);\n",
              "    };\n",
              "  });\n",
              "\n",
              "  // Wait for the user to pick the files.\n",
              "  const files = yield {\n",
              "    promise: Promise.race([pickedPromise, cancelPromise]),\n",
              "    response: {\n",
              "      action: 'starting',\n",
              "    }\n",
              "  };\n",
              "\n",
              "  cancel.remove();\n",
              "\n",
              "  // Disable the input element since further picks are not allowed.\n",
              "  inputElement.disabled = true;\n",
              "\n",
              "  if (!files) {\n",
              "    return {\n",
              "      response: {\n",
              "        action: 'complete',\n",
              "      }\n",
              "    };\n",
              "  }\n",
              "\n",
              "  for (const file of files) {\n",
              "    const li = document.createElement('li');\n",
              "    li.append(span(file.name, {fontWeight: 'bold'}));\n",
              "    li.append(span(\n",
              "        `(${file.type || 'n/a'}) - ${file.size} bytes, ` +\n",
              "        `last modified: ${\n",
              "            file.lastModifiedDate ? file.lastModifiedDate.toLocaleDateString() :\n",
              "                                    'n/a'} - `));\n",
              "    const percent = span('0% done');\n",
              "    li.appendChild(percent);\n",
              "\n",
              "    outputElement.appendChild(li);\n",
              "\n",
              "    const fileDataPromise = new Promise((resolve) => {\n",
              "      const reader = new FileReader();\n",
              "      reader.onload = (e) => {\n",
              "        resolve(e.target.result);\n",
              "      };\n",
              "      reader.readAsArrayBuffer(file);\n",
              "    });\n",
              "    // Wait for the data to be ready.\n",
              "    let fileData = yield {\n",
              "      promise: fileDataPromise,\n",
              "      response: {\n",
              "        action: 'continue',\n",
              "      }\n",
              "    };\n",
              "\n",
              "    // Use a chunked sending to avoid message size limits. See b/62115660.\n",
              "    let position = 0;\n",
              "    do {\n",
              "      const length = Math.min(fileData.byteLength - position, MAX_PAYLOAD_SIZE);\n",
              "      const chunk = new Uint8Array(fileData, position, length);\n",
              "      position += length;\n",
              "\n",
              "      const base64 = btoa(String.fromCharCode.apply(null, chunk));\n",
              "      yield {\n",
              "        response: {\n",
              "          action: 'append',\n",
              "          file: file.name,\n",
              "          data: base64,\n",
              "        },\n",
              "      };\n",
              "\n",
              "      let percentDone = fileData.byteLength === 0 ?\n",
              "          100 :\n",
              "          Math.round((position / fileData.byteLength) * 100);\n",
              "      percent.textContent = `${percentDone}% done`;\n",
              "\n",
              "    } while (position < fileData.byteLength);\n",
              "  }\n",
              "\n",
              "  // All done.\n",
              "  yield {\n",
              "    response: {\n",
              "      action: 'complete',\n",
              "    }\n",
              "  };\n",
              "}\n",
              "\n",
              "scope.google = scope.google || {};\n",
              "scope.google.colab = scope.google.colab || {};\n",
              "scope.google.colab._files = {\n",
              "  _uploadFiles,\n",
              "  _uploadFilesContinue,\n",
              "};\n",
              "})(self);\n",
              "</script> "
            ]
          },
          "metadata": {}
        }
      ],
      "source": [
        "from google.colab import files\n",
        "uploaded = files.upload()\n",
        "\n",
        "# the below shows that I have imported the file \"winequality-red.csv\" (to do this click\n",
        "# on the prompt \"Choose Files\" and select from your local machine)"
      ]
    },
    {
      "cell_type": "markdown",
      "metadata": {
        "id": "lA_mN3qZ-ZUc"
      },
      "source": [
        "- Alternatively, you can also mount your entire google drive, and then have access to all the files there; after mounting google drive there is no need to individually upload files;\n",
        "- To mount google drive, you can either click on the corresponding \"mount\" icon in the left column under 'Files', or run the next code cell, or use below code;\n",
        "- then run the subsequent code cell to load the `winequality' data\n"
      ]
    },
    {
      "cell_type": "code",
      "execution_count": null,
      "metadata": {
        "colab": {
          "base_uri": "https://localhost:8080/"
        },
        "id": "UjfM2zOqCzQ4",
        "outputId": "250dd6cf-08c4-41ff-816f-b8db6e928c1a"
      },
      "outputs": [
        {
          "name": "stdout",
          "output_type": "stream",
          "text": [
            "Mounted at /content/drive\n"
          ]
        }
      ],
      "source": [
        "from google.colab import drive\n",
        "drive.mount('/content/drive')"
      ]
    },
    {
      "cell_type": "code",
      "execution_count": null,
      "metadata": {
        "colab": {
          "base_uri": "https://localhost:8080/"
        },
        "id": "zIoN-1SG7tcs",
        "outputId": "fd6ae18f-5df0-4f4d-f86b-25b8381bfba6"
      },
      "outputs": [
        {
          "name": "stdout",
          "output_type": "stream",
          "text": [
            "-rw-r--r-- 1 root root 84199 Apr  1 16:26 winequality-red.csv\n"
          ]
        }
      ],
      "source": [
        "## Lines that start with ! run a bash (shell) command\n",
        "\n",
        "# If mounting google drive, run the following to see whether the winedata file is accessible\n",
        "# !ls -l /content/drive/MyDrive/data/winequality-red.csv\n",
        "\n",
        "# if uploading the data from a local drive, run the following to see whether the winedata file is accessible\n",
        "!ls -l winequality-red.csv"
      ]
    },
    {
      "cell_type": "code",
      "execution_count": null,
      "metadata": {
        "colab": {
          "base_uri": "https://localhost:8080/"
        },
        "id": "k1GH6-GH-78X",
        "outputId": "0a46c051-83b2-40a6-eb85-6ca2417893c0"
      },
      "outputs": [
        {
          "name": "stdout",
          "output_type": "stream",
          "text": [
            "\"fixed acidity\";\"volatile acidity\";\"citric acid\";\"residual sugar\";\"chlorides\";\"free sulfur dioxide\";\"total sulfur dioxide\";\"density\";\"pH\";\"sulphates\";\"alcohol\";\"quality\"\n",
            "7.4;0.7;0;1.9;0.076;11;34;0.9978;3.51;0.56;9.4;5\n",
            "7.8;0.88;0;2.6;0.098;25;67;0.9968;3.2;0.68;9.8;5\n",
            "7.8;0.76;0.04;2.3;0.092;15;54;0.997;3.26;0.65;9.8;5\n",
            "11.2;0.28;0.56;1.9;0.075;17;60;0.998;3.16;0.58;9.8;6\n",
            "7.4;0.7;0;1.9;0.076;11;34;0.9978;3.51;0.56;9.4;5\n",
            "7.4;0.66;0;1.8;0.075;13;40;0.9978;3.51;0.56;9.4;5\n",
            "7.9;0.6;0.06;1.6;0.069;15;59;0.9964;3.3;0.46;9.4;5\n",
            "7.3;0.65;0;1.2;0.065;15;21;0.9946;3.39;0.47;10;7\n",
            "7.8;0.58;0.02;2;0.073;9;18;0.9968;3.36;0.57;9.5;7\n"
          ]
        }
      ],
      "source": [
        "# If google drive has been mounted, run the following to see the header of the file\n",
        "# !head /content/drive/MyDrive/data/winequality-red.csv\n",
        "\n",
        "# If data file has been loaded from a local drive, run the following to see the header of the file\n",
        "!head winequality-red.csv"
      ]
    },
    {
      "cell_type": "markdown",
      "metadata": {
        "id": "WppVjgn-T_AY"
      },
      "source": [
        "\n",
        "### Review basics of python, numpy, pandas\n",
        "(official Python documentation: https://docs.python.org/3/)\n",
        "\n",
        "- lists, tuples, arrays (perhaps dictionaries, sets)\n",
        "- functions\n",
        "- if else; for loops\n",
        "- [f(a) for a in L] list comprehension (e.g. see https://www.pythoncheatsheet.org/cheatsheet/comprehensions)\n",
        "- copying vs. referencing\n",
        "- mutable - immutable (e.g. see https://realpython.com/python-mutable-vs-immutable-types/)\n",
        "\n",
        "<br>\n",
        "\n",
        "- slicing a numpy array\n",
        "- pandas dataframes (e.g. see https://pandas.pydata.org/docs/reference/frame.html)\n",
        "- slicing a pandas dataframe\n",
        "- subsetting using iloc and loc\n",
        "- subsetting using criteria\n",
        "- fit(), predict(), transform() (fit_predict(), fit_transfrom()) methods\n",
        "\n",
        "**General resources:**\n",
        "- https://www.pythoncheatsheet.org/\n",
        "- https://pandas.pydata.org/docs/reference/io.html\n",
        "\n"
      ]
    },
    {
      "cell_type": "markdown",
      "metadata": {
        "id": "4rK8MpFKvCWp"
      },
      "source": [
        "### Part II: Some Exercises (turn in for credit)\n",
        "\n",
        "These exercises are meant to recall basic geometric interpretation underlying concepts from linear algebra and to get some practice in using basic numpy/python.\n",
        "\n",
        "\n",
        "1) Add a new text cell to this notebook right below the fomulation of this problem 1 (in particular, split the cell - see keyboard shortcuts in the tools dropdown menu for the command) and add your answers to this problem there. Use LATEX for writing formulas.\n",
        "\n",
        "Suppose $u$ is a $d$-dimensional vector that is normal to a hyperplane $H$. Consider the $(d \\times d)$-matrix\n",
        "\n",
        "$$U := I_d - \\frac{1}{\\|u\\|^2}uu^\\top.$$\n",
        "\n",
        "a) Show that for any $d$-dimensional vector $v$, the vector $Uv$ (matrix multiplication) lies in $H$. [HINT: Show this by using the property of a normal vector.]\n",
        "\n",
        "b) Provide a geometric interpretation of the vector $Uv$ (i.e. describe how it relates geometrically to $v$).\n",
        "\n",
        "c) With $I_d$ denoting the $(d \\times d)$_identity matrix, the matrix\n",
        "\n",
        "$$U^* := I_d - \\frac{2}{\\|u\\|^2}uu^\\top$$\n",
        "\n",
        "is called *elementary reflector* (or sometimes *Hausholder transformation*). Compare the vector $U^*v$ to $Uv$ and explain the name *elementary reflector*. [HINT: Drawing a figure for $d=2$ might help.]\n"
      ]
    },
    {
      "cell_type": "markdown",
      "source": [
        "\n",
        "$\\text{(a)}$\n",
        "If vector $Uv$ lies in H, then it should be orthogonal with u.\n",
        "$$\n",
        "u'( I_d-\\frac{uu'}{\\|u\\|^2})v\n",
        "$$\n",
        "$$\n",
        "=(u' \\cdot v) - \\frac{(u' \\cdot u)}{\\|u\\|^2}(u' \\cdot v) = 0\n",
        "$$\n",
        "Therefore, vector $Uv$ lies in H.\n",
        "\n",
        "(b)\n",
        "$Uv$ represents the smallest distance between v and the projection of v onto u\n",
        "\n",
        "(c)\n",
        "Take the vector symmetric with respect to the plane and get a new vector. And That's the reason why the name of the vector is reflector."
      ],
      "metadata": {
        "id": "SjHQHaAak5HC"
      }
    },
    {
      "cell_type": "markdown",
      "metadata": {
        "id": "PVr5gTextkv6"
      },
      "source": [
        "2) Use numpy to do the computations in this problem. To this end, use this notebook, add a code cell right below the formulation of this problem and put your solutions there.\n",
        "\n",
        "a) Define $u = (1,2,3,3,2,1)$, $v = (1,2,3,4,5,6).$\n",
        "- Compute the matrix $U = I - \\frac{1}{\\|u\\|^2}uu^\\top$ and find $Uv$ (print both, the matrix $U$ and the vector $Uv$)\n",
        "- Compute $U^* = I - \\frac{2}{\\|u\\|^2}uu^\\top$ and find $U^*v$ (print both, the matrix $U^*$ and the vector $U^*v$).\n",
        "\n",
        "b)  Consider the real value\n",
        "$\\alpha = \\frac{\\langle u, Uv-U^*v\\rangle}{\\|u\\|\\cdot\\|Uv - U^*v\\|}.$\n",
        "- Make a conjecture of what the value of $\\alpha$ is (use your geometric intuition - again, drawing a figure in $d=2$ should help).\n",
        "- Compute $\\alpha$, and explain the value you obtain.\n"
      ]
    },
    {
      "cell_type": "code",
      "source": [
        "import numpy as np\n",
        "#a\n",
        "u=np.array([1, 2, 3, 3, 2, 1])\n",
        "v=np.array([1, 2, 3, 4, 5, 6])\n",
        "\n",
        "ulength=np.linalg.norm(u)\n",
        "\n",
        "U=np.eye(6)-(1/ulength)**2 * np.outer(u,u)\n",
        "\n",
        "print(\"U:\",U)\n",
        "print(\"Uv:\",U@v)\n",
        "\n",
        "Ustar=np.eye(6)-2*(1/ulength)**2 * np.outer(u,u)\n",
        "\n",
        "print(\"U*:\",Ustar)\n",
        "print(\"U*v:\",Ustar@(v))\n",
        "\n",
        "#b My conjecture here is that the alpha is equal to cos(0) which is 1.\n",
        "\n",
        "alpha=np.inner(u,U@(v)-Ustar@(v))/(np.linalg.norm(u)*np.linalg.norm(U@(v)-Ustar@(v)))\n",
        "print(\"alpha\",alpha,\"which is really closed to 1, since the alpha represents cosine value of the angle between the vector u and Uv-U*v.\")\n",
        "\n"
      ],
      "metadata": {
        "colab": {
          "base_uri": "https://localhost:8080/"
        },
        "id": "enf-rtZ7-hR8",
        "outputId": "02d1024b-ee0c-4718-860b-6a1bbcadf2f7"
      },
      "execution_count": 2,
      "outputs": [
        {
          "output_type": "stream",
          "name": "stdout",
          "text": [
            "U: [[ 0.96428571 -0.07142857 -0.10714286 -0.10714286 -0.07142857 -0.03571429]\n",
            " [-0.07142857  0.85714286 -0.21428571 -0.21428571 -0.14285714 -0.07142857]\n",
            " [-0.10714286 -0.21428571  0.67857143 -0.32142857 -0.21428571 -0.10714286]\n",
            " [-0.10714286 -0.21428571 -0.32142857  0.67857143 -0.21428571 -0.10714286]\n",
            " [-0.07142857 -0.14285714 -0.21428571 -0.21428571  0.85714286 -0.07142857]\n",
            " [-0.03571429 -0.07142857 -0.10714286 -0.10714286 -0.07142857  0.96428571]]\n",
            "Uv: [-0.5 -1.  -1.5 -0.5  2.   4.5]\n",
            "U*: [[ 0.92857143 -0.14285714 -0.21428571 -0.21428571 -0.14285714 -0.07142857]\n",
            " [-0.14285714  0.71428571 -0.42857143 -0.42857143 -0.28571429 -0.14285714]\n",
            " [-0.21428571 -0.42857143  0.35714286 -0.64285714 -0.42857143 -0.21428571]\n",
            " [-0.21428571 -0.42857143 -0.64285714  0.35714286 -0.42857143 -0.21428571]\n",
            " [-0.14285714 -0.28571429 -0.42857143 -0.42857143  0.71428571 -0.14285714]\n",
            " [-0.07142857 -0.14285714 -0.21428571 -0.21428571 -0.14285714  0.92857143]]\n",
            "U*v: [-2. -4. -6. -5. -1.  3.]\n",
            "alpha 0.9999999999999998 which is really closed to 1, since the alpha represents cosine value of the angle between the vector u and Uv-U*v.\n"
          ]
        }
      ]
    },
    {
      "cell_type": "markdown",
      "metadata": {
        "id": "Xnd0M6TYiATk"
      },
      "source": [
        "3) Consider the matrix $UU^\\top$ with $U$ from above. We are now concerned about the eigenvalues of $UU^\\top$.\n",
        "\n",
        "- Make a conjecture about the values of the eigenvalues of $UU^\\top$ (positive, negative, zero, certain specific values??).\n",
        "\n",
        "- Compute the eigenvalues using numpy and iterprete the values that you find.\n",
        "\n",
        "- Explain why $UU^\\top = UU = U$, i.e. $U$ is idempotent.\n",
        "\n",
        "- Let $V$ be the $(6 \\times 3)$-matrix consisting of the first three columns of $U$. Is $V$ also idempotent? Explain."
      ]
    },
    {
      "cell_type": "code",
      "source": [
        "# My conjecture here is the eigenvalue of the UU' are all 0 and 1\n",
        "\n",
        "UU= U@U\n",
        "eigenvalues, eigenvectors = np.linalg.eig(UU)\n",
        "\n",
        "print(\"eigenvalues\",eigenvalues)\n",
        "# The second eigenvalue here is approximately 0, which means that the matrix is approximately singular.\n",
        "\n",
        "# Since U is a projection matrix, so it is idempotent\n",
        "\n",
        "# VV' is a 6*6 matrix, but V is a 6*3 matrix. Therefore, it is not idempotent.\n"
      ],
      "metadata": {
        "colab": {
          "base_uri": "https://localhost:8080/"
        },
        "id": "2OxOyPxxW-sS",
        "outputId": "90a6e087-c01e-45f1-c59a-a402e3c891e9"
      },
      "execution_count": null,
      "outputs": [
        {
          "output_type": "stream",
          "name": "stdout",
          "text": [
            "eigenvalues [ 1.00000000e+00 -4.16333634e-17  1.00000000e+00  1.00000000e+00\n",
            "  1.00000000e+00  1.00000000e+00]\n"
          ]
        }
      ]
    },
    {
      "cell_type": "markdown",
      "metadata": {
        "id": "Eh5vxaTPinBn"
      },
      "source": [
        "4) Some numpy practice: With $U = (U_{ij})_{i,j=1,\\ldots,6}$ from above do the following:\n",
        "\n",
        "- Find the largest and smallest off-diagonal elements of $UU^\\top$.\n",
        "\n",
        "- Find the largest and smallest diagonal elements of $UU^\\top$.\n",
        "\n",
        "- Compute the value $max_i \\sum_{j} |U_{ij}|$.\n",
        "\n",
        "- Print the elements of the second column of $UU^\\top$ below the diagonal.\n",
        "\n",
        "- Verify idempotence of $U$ by showing that $UU - U = 0$ (where the $0$ on the right hand side is the $0$-matrix).\n",
        "\n",
        "\n"
      ]
    },
    {
      "cell_type": "code",
      "source": [
        "#1\n",
        "off_diagonal_elements = UU[~np.eye(UU.shape[0],dtype=bool)]\n",
        "print(\"max off-diagonal\", np.max(off_diagonal_elements))\n",
        "print(\"min off-diagonal\", np.min(off_diagonal_elements))\n",
        "\n",
        "#2\n",
        "diagonal_elements = UU[np.eye(UU.shape[0],dtype=bool)]\n",
        "print(\"max diagonal\", np.max(diagonal_elements))\n",
        "print(\"min diagonal\", np.min(diagonal_elements))\n",
        "\n",
        "#3\n",
        "print(\"maxi\",np.max(np.sum(np.abs(U), axis=1)))\n",
        "\n",
        "#4\n",
        "print(UU[2:, 1])\n",
        "\n",
        "#5\n",
        "check = np.allclose(UU - U, 0, atol=1e-8)\n",
        "print(check)"
      ],
      "metadata": {
        "colab": {
          "base_uri": "https://localhost:8080/"
        },
        "id": "sLVBB3t9iYZX",
        "outputId": "3136a278-25e8-4d2e-8e0d-5f6d8c0dd2a3"
      },
      "execution_count": null,
      "outputs": [
        {
          "output_type": "stream",
          "name": "stdout",
          "text": [
            "max off-diagonal -0.03571428571428571\n",
            "min off-diagonal -0.3214285714285714\n",
            "max diagonal 0.9642857142857143\n",
            "min diagonal 0.6785714285714285\n",
            "maxi 1.6428571428571428\n",
            "[-0.21428571 -0.21428571 -0.14285714 -0.07142857]\n",
            "True\n"
          ]
        }
      ]
    }
  ],
  "metadata": {
    "colab": {
      "provenance": [],
      "include_colab_link": true
    },
    "kernelspec": {
      "display_name": "Python 3 (ipykernel)",
      "language": "python",
      "name": "python3"
    },
    "language_info": {
      "codemirror_mode": {
        "name": "ipython",
        "version": 3
      },
      "file_extension": ".py",
      "mimetype": "text/x-python",
      "name": "python",
      "nbconvert_exporter": "python",
      "pygments_lexer": "ipython3",
      "version": "3.11.5"
    }
  },
  "nbformat": 4,
  "nbformat_minor": 0
}